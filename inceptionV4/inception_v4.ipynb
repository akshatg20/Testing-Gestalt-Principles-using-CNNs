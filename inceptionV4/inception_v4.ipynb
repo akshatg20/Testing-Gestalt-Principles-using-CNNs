{
 "cells": [
  {
   "cell_type": "markdown",
   "metadata": {},
   "source": [
    "### Changes in InceptionV4 and InceptionV3\n",
    "\n",
    "InceptionV4 is a more complex architecture that combines elements of both the InceptionV3 modules and residual connections (inspired by ResNet), which helps improve gradient flow and model convergence during training. It adds an extra layer of inception blocks, further enhancing performance."
   ]
  },
  {
   "cell_type": "markdown",
   "metadata": {},
   "source": [
    "### Study Design\n",
    "\n",
    "To handle the binary tasks and these synthetic images, I have adapted the inception v4 model by changing the input size to **(200,200,3)**, and replacing the original softmax output layer by one hidden fully connected layer of 1024 nodes (with relu activation) plus one new softmax layer of 2 nodes. The weights of the network (except the new layers) are initialized from the pre-trained model on ImageNet database.\n",
    "\n",
    "**I have used Tensorflow's InceptionResNetV2 library to implement the InceptionV4 model**"
   ]
  },
  {
   "cell_type": "markdown",
   "metadata": {},
   "source": [
    "### Implementation"
   ]
  },
  {
   "cell_type": "code",
   "execution_count": null,
   "metadata": {},
   "outputs": [],
   "source": [
    "import tensorflow as tf\n",
    "from tensorflow.keras.applications import InceptionResNetV2  # Using Inception V4\n",
    "from tensorflow.keras.models import Model\n",
    "from tensorflow.keras.layers import Dense, GlobalAveragePooling2D, Input"
   ]
  },
  {
   "cell_type": "code",
   "execution_count": null,
   "metadata": {},
   "outputs": [],
   "source": [
    "def build_inceptionV4(input_shape):\n",
    "    input_tensor = Input(shape=input_shape)\n",
    "\n",
    "    base_model = InceptionResNetV2(input_tensor=input_tensor, weights='imagenet', include_top=False)\n",
    "\n",
    "    x = base_model.output\n",
    "    x = GlobalAveragePooling2D()(x)\n",
    "    x = Dense(1024, activation='relu')(x)\n",
    "    predictions = Dense(2, activation='softmax')(x)\n",
    "\n",
    "    model = Model(inputs=input_tensor, outputs=predictions)\n",
    "    \n",
    "    return base_model, model"
   ]
  },
  {
   "cell_type": "markdown",
   "metadata": {},
   "source": [
    "A proper implementation of the model with preprocessing and training has been done for Q2."
   ]
  }
 ],
 "metadata": {
  "kernelspec": {
   "display_name": "base",
   "language": "python",
   "name": "python3"
  },
  "language_info": {
   "codemirror_mode": {
    "name": "ipython",
    "version": 3
   },
   "file_extension": ".py",
   "mimetype": "text/x-python",
   "name": "python",
   "nbconvert_exporter": "python",
   "pygments_lexer": "ipython3",
   "version": "3.9.12"
  }
 },
 "nbformat": 4,
 "nbformat_minor": 2
}

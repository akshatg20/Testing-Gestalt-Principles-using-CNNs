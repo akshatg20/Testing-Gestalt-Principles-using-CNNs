{
 "cells": [
  {
   "cell_type": "code",
   "execution_count": 17,
   "metadata": {},
   "outputs": [],
   "source": [
    "import numpy as np\n",
    "from PIL import Image, ImageDraw\n",
    "import os\n",
    "import random"
   ]
  },
  {
   "cell_type": "markdown",
   "metadata": {},
   "source": [
    "### Generating datasets\n",
    "\n",
    "For this problem I have created image dataset consisting of macro-objects **{'X', 'I', 'O', 'H', 'T', 'L'}** made up of smaller micro-objects (small circles).\n",
    "\n",
    "Various transformations have been applied to make the dataset more varied such as:\n",
    "1) Background Noise\n",
    "2) Jitters\n",
    "3) Rotation\n",
    "\n",
    "Some examples: \n",
    "\n",
    "!['H with background noise'](proximity_data/train_dataset/H_114.png)\n",
    "!['I with rotation'](proximity_data/valid_dataset/I_153.png)\n",
    "\n",
    "\n",
    "The density among the micro-objects has been gradually **decreased** as we move from the training data to validation data and finally testing data.\n",
    "\n",
    "Also, **1000 images** each have been created for training, validation and testing."
   ]
  },
  {
   "cell_type": "code",
   "execution_count": 13,
   "metadata": {},
   "outputs": [],
   "source": [
    "# Function to create macro-objects using micro-objects (circles)\n",
    "def create_image(macro_object_coords, img_size=(200, 200), density=1.0, save_path=\"image.png\"):\n",
    "    img = Image.new('RGB', img_size, 'white')\n",
    "    draw = ImageDraw.Draw(img)\n",
    "    \n",
    "    # Adjust the spacing based on the density\n",
    "    spacing_adjust = int(10 / density)  # Modify circle size and spacing based on density\n",
    "\n",
    "    # Randomly decide which transformations to apply\n",
    "    apply_jitter = np.random.rand() < 0.5  # 50% chance to apply jitter\n",
    "    apply_rotation = np.random.rand() < 0.5  # 50% chance to apply rotation\n",
    "    apply_noise = np.random.rand() < 0.5  # 50% chance to add noise\n",
    "\n",
    "    jitter_amount = 5  # Maximum jitter amount\n",
    "    rotation_angle = np.random.uniform(-10, 10) if apply_rotation else 0  # Rotate between -10 and 10 degrees\n",
    "\n",
    "    # Draw circles at positions based on the macro-object coordinates\n",
    "    for coord in macro_object_coords:\n",
    "        # Apply jitter\n",
    "        x_offset = np.random.randint(-jitter_amount, jitter_amount) if apply_jitter else 0\n",
    "        y_offset = np.random.randint(-jitter_amount, jitter_amount) if apply_jitter else 0\n",
    "        \n",
    "        # Draw the circle with jitter and spacing adjustment\n",
    "        draw.ellipse([coord[0] + x_offset, coord[1] + y_offset,\n",
    "                      coord[0] + spacing_adjust + x_offset, coord[1] + spacing_adjust + y_offset],\n",
    "                     outline='black', fill='gray')\n",
    "    \n",
    "    # Apply rotation if needed (rotate the whole image for simplicity)\n",
    "    if apply_rotation:\n",
    "        img = img.rotate(rotation_angle, expand=True)\n",
    "    \n",
    "    # Add noise (extra circles) if needed\n",
    "    if apply_noise:\n",
    "        noise_count = np.random.randint(10, 30)  # Randomly decide how much noise to add\n",
    "        for _ in range(noise_count):\n",
    "            x_noise = np.random.randint(0, img_size[0])\n",
    "            y_noise = np.random.randint(0, img_size[1])\n",
    "            draw.ellipse([x_noise, y_noise, x_noise + 5, y_noise + 5], outline='black', fill='lightgray')\n",
    "\n",
    "    # Save the image to the specified path\n",
    "    img.save(save_path)\n"
   ]
  },
  {
   "cell_type": "code",
   "execution_count": 10,
   "metadata": {},
   "outputs": [],
   "source": [
    "# Define coordinates for different macro-objects\n",
    "macro_object_coords_dict = {\n",
    "    'I': [(50, 20), (50, 60), (50, 100), (50, 140), (50, 180)],\n",
    "    'L': [(50, 20), (50, 60), (50, 100), (50, 140), (90, 180)],\n",
    "    'T': [(30, 20), (70, 20), (110, 20), (70, 60), (70, 100)],\n",
    "    'X': [(50, 50), (90, 50), (70, 70), (50, 90), (90, 90)],\n",
    "    'H': [(50, 20), (50, 60), (50, 100), (90, 20), (90, 60), (90, 100), (70, 60)],\n",
    "    'O': [(50, 20), (90, 20), (50, 100), (90, 100)]\n",
    "}"
   ]
  },
  {
   "cell_type": "code",
   "execution_count": 39,
   "metadata": {},
   "outputs": [],
   "source": [
    "# Function to generate datasets\n",
    "def generate_dataset(dataset_type='train', density=1.0, img_size=(200, 200), num_images=100):\n",
    "    base_path = f\"./proximity_data/{dataset_type}_dataset/\"\n",
    "    os.makedirs(base_path, exist_ok=True)\n",
    "    \n",
    "    macro_objects = ['I', 'L', 'T', 'X', 'H', 'O']\n",
    "\n",
    "    # Generate images for each macro-object\n",
    "    labels = []\n",
    "    for i in range(num_images):\n",
    "        macro_object = np.random.choice(macro_objects)\n",
    "        coords = macro_object_coords_dict[macro_object]\n",
    "        \n",
    "        # Introduce randomness to make each image unique\n",
    "        density = 1.0\n",
    "        if dataset_type == 'valid':\n",
    "            density = np.random.uniform(0.8, 1.0)\n",
    "        elif dataset_type == 'test':\n",
    "            density = np.random.uniform(0.5, 1.0)\n",
    "\n",
    "        save_path = base_path + f\"{macro_object}_{i}.png\"\n",
    "        \n",
    "        # Create and save the image\n",
    "        create_image(coords, img_size=img_size, density=density, save_path=save_path)\n",
    "        \n",
    "        # Store the label (based on the macro-object type)\n",
    "        labels.append(macro_objects.index(macro_object))\n",
    "    \n",
    "    # Return the labels (you may want to save these labels to a file)\n",
    "    return labels"
   ]
  },
  {
   "cell_type": "code",
   "execution_count": 40,
   "metadata": {},
   "outputs": [],
   "source": [
    "# Generate 1000 training and validation images and 1000 testing images\n",
    "train_labels = generate_dataset('train', num_images=1000)\n",
    "valid_labels = generate_dataset('valid', num_images=1000)\n",
    "test_labels = generate_dataset('test', num_images=1000)"
   ]
  },
  {
   "cell_type": "code",
   "execution_count": null,
   "metadata": {},
   "outputs": [],
   "source": []
  }
 ],
 "metadata": {
  "kernelspec": {
   "display_name": ".venv",
   "language": "python",
   "name": "python3"
  },
  "language_info": {
   "codemirror_mode": {
    "name": "ipython",
    "version": 3
   },
   "file_extension": ".py",
   "mimetype": "text/x-python",
   "name": "python",
   "nbconvert_exporter": "python",
   "pygments_lexer": "ipython3",
   "version": "3.9.6"
  }
 },
 "nbformat": 4,
 "nbformat_minor": 2
}

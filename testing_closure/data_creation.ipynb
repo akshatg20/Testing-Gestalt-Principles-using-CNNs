{
 "cells": [
  {
   "cell_type": "code",
   "execution_count": 1,
   "metadata": {},
   "outputs": [],
   "source": [
    "import numpy as np\n",
    "from PIL import Image, ImageDraw\n",
    "import os\n",
    "import random"
   ]
  },
  {
   "cell_type": "markdown",
   "metadata": {},
   "source": [
    "### Gestalt Principle: CLOSURE\n",
    "\n",
    "For this problem, I have chosen the Gestalt principle of closure. The Gestalt principle of closure suggests that our brains tend to perceive incomplete shapes, patterns, or forms as complete or whole.\n",
    "\n",
    "!['incomplete circle'](closure_dataset/val_dataset/circle_unclosed_218.png)\n",
    "!['complete circle'](closure_dataset/train_dataset/circle_closed_11.png)\n",
    "\n",
    "I will try to train a CNN model which can recognize whole shapes even if they are incomplete. If it is sufficiently successful in recognizing incomplete images as whole, then I will be able to say with some level of assurance that the model was able to learn the principle of closure."
   ]
  },
  {
   "cell_type": "markdown",
   "metadata": {},
   "source": [
    "### Generating datasets\n",
    "\n",
    "I have generated images of two figures: **Cicles** and **Squares** with various levels of (in)completeness across the training, validations and testing datasets. The testing datast contains a **higher** proportion of incomplete images to test for the CLOSURE property. Certain transformations like rotation and translation have been applied to make the dataset more generalized.\n",
    "\n",
    "There are 1000 sample images for each of train, validation and test dataset."
   ]
  },
  {
   "cell_type": "code",
   "execution_count": 75,
   "metadata": {},
   "outputs": [],
   "source": [
    "def create_closed_shape(draw, shape_type, coords):\n",
    "    if shape_type == 'circle':\n",
    "        draw.arc(coords, start=0, end=360, fill='black')\n",
    "        return \"C\"\n",
    "    elif shape_type == 'square':\n",
    "        draw.rectangle(coords, outline='black')\n",
    "        return \"S\"\n",
    "    elif shape_type == 'triangle':\n",
    "        draw.polygon(coords, outline='black')\n",
    "        return \"T\""
   ]
  },
  {
   "cell_type": "code",
   "execution_count": 76,
   "metadata": {},
   "outputs": [],
   "source": [
    "# Draw an unclosed shape based on its type and completeness\n",
    "def create_unclosed_shape(draw, shape_type, coords, completeness):\n",
    "    if shape_type == 'circle':\n",
    "        # Only draw the portion of the circle corresponding to completeness\n",
    "        angle = int(360 * completeness)  # Compute the angle of the arc to draw\n",
    "        draw.arc(coords, start=0, end=angle, fill='black')\n",
    "        return \"C\"\n",
    "        \n",
    "    elif shape_type == 'square':\n",
    "        # Break the square perimeter into segments (4 equal sides)\n",
    "        total_length = 4  # Square has 4 sides\n",
    "        sides_to_draw = int(total_length * completeness)\n",
    "        side_fraction = completeness - sides_to_draw / total_length  # Remaining portion of the last side\n",
    "        \n",
    "        # Draw the sides based on completeness\n",
    "        if sides_to_draw >= 1:\n",
    "            draw.line([coords[0], coords[1], coords[2], coords[1]], fill='black')  # Top line\n",
    "        if sides_to_draw >= 2:\n",
    "            draw.line([coords[2], coords[1], coords[2], coords[3]], fill='black')  # Right line\n",
    "        if sides_to_draw >= 3:\n",
    "            draw.line([coords[2], coords[3], coords[0], coords[3]], fill='black')  # Bottom line\n",
    "        if sides_to_draw == 4:\n",
    "            draw.line([coords[0], coords[3], coords[0], coords[1]], fill='black')  # Left line\n",
    "\n",
    "        # Partial side drawing based on the side fraction\n",
    "        if side_fraction > 0:\n",
    "            if sides_to_draw == 0:\n",
    "                draw.line([coords[0], coords[1], coords[0] + (coords[2] - coords[0]) * side_fraction, coords[1]], fill='black')  # Partial top line\n",
    "            elif sides_to_draw == 1:\n",
    "                draw.line([coords[2], coords[1], coords[2], coords[1] + (coords[3] - coords[1]) * side_fraction], fill='black')  # Partial right line\n",
    "            elif sides_to_draw == 2:\n",
    "                draw.line([coords[2], coords[3], coords[2] - (coords[2] - coords[0]) * side_fraction, coords[3]], fill='black')  # Partial bottom line\n",
    "            elif sides_to_draw == 3:\n",
    "                draw.line([coords[0], coords[3], coords[0], coords[3] - (coords[3] - coords[1]) * side_fraction], fill='black')  # Partial left line\n",
    "        return \"S\"\n",
    "\n",
    "    elif shape_type == 'triangle':\n",
    "        # Break the triangle perimeter into segments (3 sides)\n",
    "        total_segments = 3\n",
    "        segments_to_draw = int(total_segments * completeness)\n",
    "        segment_fraction = completeness - segments_to_draw / total_segments\n",
    "        \n",
    "        # Draw full sides\n",
    "        if segments_to_draw >= 1:\n",
    "            draw.line([coords[0], coords[1], coords[2], coords[3]], fill='black')  # Base\n",
    "        if segments_to_draw >= 2:\n",
    "            draw.line([coords[2], coords[3], coords[4], coords[5]], fill='black')  # Left slope\n",
    "        if segments_to_draw == 3:\n",
    "            draw.line([coords[4], coords[5], coords[0], coords[1]], fill='black')  # Right slope\n",
    "        \n",
    "        # Partial side drawing based on the segment fraction\n",
    "        if segment_fraction > 0:\n",
    "            if segments_to_draw == 0:\n",
    "                draw.line([coords[0], coords[1], coords[0] + (coords[2] - coords[0]) * segment_fraction, coords[1] + (coords[3] - coords[1]) * segment_fraction], fill='black')  # Partial base line\n",
    "            elif segments_to_draw == 1:\n",
    "                draw.line([coords[2], coords[3], coords[2] + (coords[4] - coords[2]) * segment_fraction, coords[3] + (coords[5] - coords[3]) * segment_fraction], fill='black')  # Partial left slope\n",
    "            elif segments_to_draw == 2:\n",
    "                draw.line([coords[4], coords[5], coords[0] + (coords[0] - coords[4]) * segment_fraction, coords[1] + (coords[1] - coords[5]) * segment_fraction], fill='black')  # Partial right slope\n",
    "        return \"T\""
   ]
  },
  {
   "cell_type": "code",
   "execution_count": 74,
   "metadata": {},
   "outputs": [],
   "source": [
    "def apply_random_transformations(img):\n",
    "    \"\"\"Apply rough transformations to the image.\"\"\"\n",
    "    # Random rotation\n",
    "    if random.random() < 0.5:  # Apply transformation with 50% probability\n",
    "        angle = random.randint(-30, 30)  # Rotate between -30 and +30 degrees\n",
    "        img = img.rotate(angle, expand=True)\n",
    "        \n",
    "    # Random translation\n",
    "    if random.random() < 0.5:  # Apply transformation with 50% probability\n",
    "        translate_x = random.randint(-30, 30)  # Larger translation\n",
    "        translate_y = random.randint(-30, 30)\n",
    "        img = img.transform(img.size, Image.AFFINE, (1, 0, translate_x, 0, 1, translate_y), fillcolor='white')\n",
    "\n",
    "    return img"
   ]
  },
  {
   "cell_type": "code",
   "execution_count": 78,
   "metadata": {},
   "outputs": [],
   "source": [
    "# Create an image with a shape, either closed or unclosed\n",
    "def create_image(shape_type, img_size=(200, 200), is_closed=True, completeness=1.0):\n",
    "    img = Image.new('RGB', img_size, 'white')\n",
    "    draw = ImageDraw.Draw(img)\n",
    "    \n",
    "    # Shape coordinates based on type\n",
    "    if shape_type == 'circle':\n",
    "        coords = [50, 50, 150, 150]\n",
    "    elif shape_type == 'square':\n",
    "        coords = [50, 50, 150, 150]  # Square coordinates\n",
    "    elif shape_type == 'triangle':\n",
    "        coords = [50, 150, 150, 150, 100, 50]  # Triangle coordinates\n",
    "    \n",
    "    # Draw the shape based on whether it's closed or unclosed\n",
    "    if is_closed:\n",
    "        shape_name = create_closed_shape(draw, shape_type, coords)\n",
    "    else:\n",
    "        shape_name = create_unclosed_shape(draw, shape_type, coords, completeness)\n",
    "    \n",
    "    #  Apply random rough transformations\n",
    "    img = apply_random_transformations(img)\n",
    "    \n",
    "    return img, shape_name"
   ]
  },
  {
   "cell_type": "code",
   "execution_count": 90,
   "metadata": {},
   "outputs": [],
   "source": [
    "# Generate a dataset of images\n",
    "def generate_dataset(dataset_type, img_size=(200, 200), num_images=100, closed_ratio=0.5, completeness= 0.5):\n",
    "    base_path = f\"./closure_dataset/{dataset_type}_dataset/\"\n",
    "    os.makedirs(base_path, exist_ok=True)\n",
    "    shape_types = ['circle', 'square']\n",
    "    labels = []\n",
    "    for i in range(num_images):\n",
    "        shape_type = np.random.choice(shape_types)\n",
    "        is_closed = np.random.rand() < closed_ratio\n",
    "\n",
    "        save_path = base_path + f\"{shape_type}_{'closed' if is_closed else 'unclosed'}_{i}.png\"\n",
    "        img, shape_name = create_image(shape_type, img_size=img_size, is_closed=is_closed, completeness=completeness)\n",
    "        labels.append(f\"{shape_name}\")\n",
    "        img.save(save_path)\n",
    "    \n",
    "    return labels"
   ]
  },
  {
   "cell_type": "code",
   "execution_count": 91,
   "metadata": {},
   "outputs": [],
   "source": [
    "# Generate 1000 training images\n",
    "train_labels = generate_dataset('train', num_images=1000, img_size=(200, 200), closed_ratio=0.8, completeness=0.75)\n",
    "# Generate 1000 validation images\n",
    "val_labels = generate_dataset('val', num_images=1000, img_size=(200, 200), closed_ratio=0.8, completeness=0.5)\n",
    "# Generate 1000 testing images\n",
    "test_labels = generate_dataset('test', num_images=1000, img_size=(200, 200), closed_ratio=0.1, completeness=0.3)"
   ]
  }
 ],
 "metadata": {
  "kernelspec": {
   "display_name": ".venv",
   "language": "python",
   "name": "python3"
  },
  "language_info": {
   "codemirror_mode": {
    "name": "ipython",
    "version": 3
   },
   "file_extension": ".py",
   "mimetype": "text/x-python",
   "name": "python",
   "nbconvert_exporter": "python",
   "pygments_lexer": "ipython3",
   "version": "3.9.6"
  }
 },
 "nbformat": 4,
 "nbformat_minor": 2
}
